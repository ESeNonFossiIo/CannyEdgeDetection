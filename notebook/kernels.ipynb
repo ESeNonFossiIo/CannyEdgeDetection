{
 "cells": [
  {
   "cell_type": "code",
   "execution_count": 1,
   "metadata": {},
   "outputs": [],
   "source": [
    "import sys\n",
    "sys.path.append(\"../lib/\")"
   ]
  },
  {
   "cell_type": "code",
   "execution_count": 2,
   "metadata": {},
   "outputs": [
    {
     "name": "stdout",
     "output_type": "stream",
     "text": [
      "[ 0.10271276  0.22079672  0.28495877  0.22079672  0.10271276]\n",
      "[[ 0.01054991  0.04875119  0.0812015   0.04875119  0.01054991]]\n",
      "(array([[1, 4, 7, 4, 1]]), 17)\n"
     ]
    }
   ],
   "source": [
    "from kernels import gaussian_kernel\n",
    "print gaussian_kernel(integer=True, sigma=1.4)"
   ]
  },
  {
   "cell_type": "code",
   "execution_count": 7,
   "metadata": {},
   "outputs": [
    {
     "name": "stdout",
     "output_type": "stream",
     "text": [
      "(array([[-1,  0,  1],\n",
      "       [-2,  0,  2],\n",
      "       [-1,  0,  1]]), array([[-1, -2, -1],\n",
      "       [ 0,  0,  0],\n",
      "       [ 1,  2,  1]]))\n"
     ]
    }
   ],
   "source": [
    "from kernels import sobel_kernel\n",
    "print sobel_kernel()"
   ]
  },
  {
   "cell_type": "code",
   "execution_count": null,
   "metadata": {},
   "outputs": [],
   "source": []
  }
 ],
 "metadata": {
  "kernelspec": {
   "display_name": "Python 2",
   "language": "python",
   "name": "python2"
  },
  "language_info": {
   "codemirror_mode": {
    "name": "ipython",
    "version": 2
   },
   "file_extension": ".py",
   "mimetype": "text/x-python",
   "name": "python",
   "nbconvert_exporter": "python",
   "pygments_lexer": "ipython2",
   "version": "2.7.14"
  }
 },
 "nbformat": 4,
 "nbformat_minor": 2
}
