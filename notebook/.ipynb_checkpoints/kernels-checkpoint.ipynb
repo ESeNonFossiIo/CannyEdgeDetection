{
 "cells": [
  {
   "cell_type": "code",
   "execution_count": 19,
   "metadata": {},
   "outputs": [
    {
     "name": "stdout",
     "output_type": "stream",
     "text": [
      "The autoreload extension is already loaded. To reload it, use:\n",
      "  %reload_ext autoreload\n"
     ]
    }
   ],
   "source": [
    "# import os\n",
    "# os.getcwd()\n",
    "%load_ext autoreload\n",
    "%autoreload 2"
   ]
  },
  {
   "cell_type": "code",
   "execution_count": 20,
   "metadata": {},
   "outputs": [],
   "source": [
    "import sys\n",
    "sys.path.append(\"../lib/\")"
   ]
  },
  {
   "cell_type": "code",
   "execution_count": 28,
   "metadata": {},
   "outputs": [
    {
     "name": "stdout",
     "output_type": "stream",
     "text": [
      "(array([[1, 2, 2, 2, 1],\n",
      "       [2, 4, 5, 4, 2],\n",
      "       [2, 5, 7, 5, 2],\n",
      "       [2, 4, 5, 4, 2],\n",
      "       [1, 2, 2, 2, 1]]), 71)\n",
      "(array([[ 0.01054991,  0.02267864,  0.0292689 ,  0.02267864,  0.01054991],\n",
      "       [ 0.02267864,  0.04875119,  0.06291796,  0.04875119,  0.02267864],\n",
      "       [ 0.0292689 ,  0.06291796,  0.0812015 ,  0.06291796,  0.0292689 ],\n",
      "       [ 0.02267864,  0.04875119,  0.06291796,  0.04875119,  0.02267864],\n",
      "       [ 0.01054991,  0.02267864,  0.0292689 ,  0.02267864,  0.01054991]]), 0.86858249658829878)\n"
     ]
    }
   ],
   "source": [
    "from kernels import gaussian_kernel\n",
    "print gaussian_kernel(integer=True, sigma=1.4)\n",
    "print gaussian_kernel(sigma=1.4)"
   ]
  },
  {
   "cell_type": "code",
   "execution_count": 26,
   "metadata": {},
   "outputs": [
    {
     "name": "stdout",
     "output_type": "stream",
     "text": [
      "(array([[ 1,  0, -1],\n",
      "       [ 2,  0, -2],\n",
      "       [ 1,  0, -1]]), array([[ 1,  2,  1],\n",
      "       [ 0,  0,  0],\n",
      "       [-1, -2, -1]]))\n"
     ]
    }
   ],
   "source": [
    "from kernels import sobel_kernel\n",
    "print sobel_kernel()"
   ]
  }
 ],
 "metadata": {
  "kernelspec": {
   "display_name": "Python 2",
   "language": "python",
   "name": "python2"
  }
 },
 "nbformat": 4,
 "nbformat_minor": 2
}
