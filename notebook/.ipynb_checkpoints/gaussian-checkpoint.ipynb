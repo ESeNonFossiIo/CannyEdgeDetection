{
 "cells": [
  {
   "cell_type": "code",
   "execution_count": 10,
   "metadata": {},
   "outputs": [],
   "source": [
    "from __future__ import division"
   ]
  },
  {
   "cell_type": "code",
   "execution_count": 11,
   "metadata": {},
   "outputs": [],
   "source": [
    "import numpy as np"
   ]
  },
  {
   "cell_type": "code",
   "execution_count": 12,
   "metadata": {},
   "outputs": [],
   "source": [
    "b = np.array([[2, 4,  5,  2,  2],\n",
    "           [4, 9,  12, 9,  4],\n",
    "           [5, 12, 15, 12, 5],\n",
    "           [4, 9,  12, 9,  4],\n",
    "           [2, 4,  5,  4,  2]]) / 156"
   ]
  },
  {
   "cell_type": "code",
   "execution_count": 37,
   "metadata": {},
   "outputs": [
    {
     "name": "stdout",
     "output_type": "stream",
     "text": [
      "[[-2 -1  0  1  2]]\n",
      "[[-4 -2  0  2  4]]\n"
     ]
    }
   ],
   "source": [
    "s   = 2\n",
    "x   = np.array(range(-s,s+1))\n",
    "m   = np.zeros(shape=(2*s+1,2*s+1))\n",
    "print y\n",
    "print x + y"
   ]
  },
  {
   "cell_type": "code",
   "execution_count": 32,
   "metadata": {},
   "outputs": [],
   "source": [
    "def g(x, mu, sig):\n",
    "    return np.exp(-np.power(x - mu, 2.) / (2 * np.power(sig, 2.)))"
   ]
  },
  {
   "cell_type": "code",
   "execution_count": 33,
   "metadata": {},
   "outputs": [
    {
     "data": {
      "text/plain": [
       "array([ 1.        ,  0.60653066,  0.13533528])"
      ]
     },
     "execution_count": 33,
     "metadata": {},
     "output_type": "execute_result"
    }
   ],
   "source": [
    "g(np.array(range(0,3)), 0.0, 1.0)"
   ]
  },
  {
   "cell_type": "code",
   "execution_count": 16,
   "metadata": {},
   "outputs": [
    {
     "name": "stdout",
     "output_type": "stream",
     "text": [
      "[[ 0.01282051  0.02564103  0.03205128  0.01282051  0.01282051]\n",
      " [ 0.02564103  0.05769231  0.07692308  0.05769231  0.02564103]\n",
      " [ 0.03205128  0.07692308  0.09615385  0.07692308  0.03205128]\n",
      " [ 0.02564103  0.05769231  0.07692308  0.05769231  0.02564103]\n",
      " [ 0.01282051  0.02564103  0.03205128  0.02564103  0.01282051]]\n"
     ]
    }
   ],
   "source": [
    "print b"
   ]
  },
  {
   "cell_type": "code",
   "execution_count": null,
   "metadata": {},
   "outputs": [],
   "source": []
  },
  {
   "cell_type": "code",
   "execution_count": null,
   "metadata": {},
   "outputs": [],
   "source": []
  }
 ],
 "metadata": {
  "kernelspec": {
   "display_name": "Python 2",
   "language": "python",
   "name": "python2"
  },
  "language_info": {
   "codemirror_mode": {
    "name": "ipython",
    "version": 2
   },
   "file_extension": ".py",
   "mimetype": "text/x-python",
   "name": "python",
   "nbconvert_exporter": "python",
   "pygments_lexer": "ipython2",
   "version": "2.7.14"
  }
 },
 "nbformat": 4,
 "nbformat_minor": 2
}
